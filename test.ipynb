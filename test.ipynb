{
 "cells": [
  {
   "cell_type": "code",
   "execution_count": null,
   "id": "ada995f0",
   "metadata": {},
   "outputs": [
    {
     "name": "stdout",
     "output_type": "stream",
     "text": [
      "Requirement already satisfied: PyJHora in c:\\project\\test\\.venv\\lib\\site-packages (4.5.5)\n",
      "Requirement already satisfied: swisseph in c:\\project\\test\\.venv\\lib\\site-packages (0.0.0.dev1)\n"
     ]
    },
    {
     "name": "stderr",
     "output_type": "stream",
     "text": [
      "\n",
      "[notice] A new release of pip is available: 24.0 -> 25.2\n",
      "[notice] To update, run: python.exe -m pip install --upgrade pip\n"
     ]
    },
    {
     "name": "stdout",
     "output_type": "stream",
     "text": [
      "Requirement already satisfied: pyswisseph in c:\\project\\test\\.venv\\lib\\site-packages (2.10.3.2)\n"
     ]
    },
    {
     "name": "stderr",
     "output_type": "stream",
     "text": [
      "\n",
      "[notice] A new release of pip is available: 24.0 -> 25.2\n",
      "[notice] To update, run: python.exe -m pip install --upgrade pip\n"
     ]
    }
   ],
   "source": [
    "! pip install PyJHora swisseph\n",
    "! pip install pyswisseph\n",
    "! pip install geocoder\n"
   ]
  },
  {
   "cell_type": "code",
   "execution_count": null,
   "id": "687f69b1",
   "metadata": {},
   "outputs": [
    {
     "name": "stdout",
     "output_type": "stream",
     "text": [
      "hora c:\\ added to system path ['C:\\\\Program Files\\\\WindowsApps\\\\PythonSoftwareFoundation.Python.3.11_3.11.2544.0_x64__qbz5n2kfra8p0\\\\python311.zip', 'C:\\\\Program Files\\\\WindowsApps\\\\PythonSoftwareFoundation.Python.3.11_3.11.2544.0_x64__qbz5n2kfra8p0\\\\DLLs', 'C:\\\\Program Files\\\\WindowsApps\\\\PythonSoftwareFoundation.Python.3.11_3.11.2544.0_x64__qbz5n2kfra8p0\\\\Lib', 'C:\\\\Program Files\\\\WindowsApps\\\\PythonSoftwareFoundation.Python.3.11_3.11.2544.0_x64__qbz5n2kfra8p0', 'c:\\\\Project\\\\test\\\\.venv', '', 'c:\\\\Project\\\\test\\\\.venv\\\\Lib\\\\site-packages', 'c:\\\\Project\\\\test\\\\.venv\\\\Lib\\\\site-packages\\\\win32', 'c:\\\\Project\\\\test\\\\.venv\\\\Lib\\\\site-packages\\\\win32\\\\lib', 'c:\\\\Project\\\\test\\\\.venv\\\\Lib\\\\site-packages\\\\Pythonwin', 'c:\\\\']\n"
     ]
    },
    {
     "ename": "ModuleNotFoundError",
     "evalue": "No module named 'geocoder'",
     "output_type": "error",
     "traceback": [
      "\u001b[31m---------------------------------------------------------------------------\u001b[39m",
      "\u001b[31mModuleNotFoundError\u001b[39m                       Traceback (most recent call last)",
      "\u001b[36mCell\u001b[39m\u001b[36m \u001b[39m\u001b[32mIn[1]\u001b[39m\u001b[32m, line 1\u001b[39m\n\u001b[32m----> \u001b[39m\u001b[32m1\u001b[39m \u001b[38;5;28;01mfrom\u001b[39;00m\u001b[38;5;250m \u001b[39m\u001b[34;01mjhora\u001b[39;00m\u001b[34;01m.\u001b[39;00m\u001b[34;01mhoroscope\u001b[39;00m\u001b[34;01m.\u001b[39;00m\u001b[34;01mchart\u001b[39;00m\u001b[34;01m.\u001b[39;00m\u001b[34;01mcharts\u001b[39;00m\u001b[38;5;250m \u001b[39m\u001b[38;5;28;01mimport\u001b[39;00m HoroscopeChart\n\u001b[32m      2\u001b[39m \u001b[38;5;66;03m# Define birth data (date, time, location)\u001b[39;00m\n\u001b[32m      3\u001b[39m year = \u001b[32m1990\u001b[39m\n",
      "\u001b[36mFile \u001b[39m\u001b[32mc:\\Project\\test\\.venv\\Lib\\site-packages\\jhora\\horoscope\\chart\\charts.py:39\u001b[39m\n\u001b[32m      1\u001b[39m \u001b[38;5;66;03m#!/usr/bin/env python\u001b[39;00m\n\u001b[32m      2\u001b[39m \u001b[38;5;66;03m# -*- coding: UTF-8 -*-\u001b[39;00m\n\u001b[32m      3\u001b[39m \u001b[38;5;66;03m# Copyright (C) Open Astro Technologies, USA.\u001b[39;00m\n\u001b[32m   (...)\u001b[39m\u001b[32m     19\u001b[39m \u001b[38;5;66;03m# You should have received a copy of the GNU Affero General Public License\u001b[39;00m\n\u001b[32m     20\u001b[39m \u001b[38;5;66;03m# along with this program.  If not, see <http://www.gnu.org/licenses/>.\u001b[39;00m\n\u001b[32m     21\u001b[39m \u001b[33;03m\"\"\"\u001b[39;00m\n\u001b[32m     22\u001b[39m \u001b[33;03m    TODO: Custom Divisional Chart with following options:\u001b[39;00m\n\u001b[32m     23\u001b[39m \u001b[33;03m    Cyclic or not (Cyclic/Parivritti) => First N parts in Ar and 2nd N to Ta etc\u001b[39;00m\n\u001b[32m   (...)\u001b[39m\u001b[32m     37\u001b[39m \u001b[33;03m          count N divisions from end of the sign if sign is even\u001b[39;00m\n\u001b[32m     38\u001b[39m \u001b[33;03m\"\"\"\u001b[39;00m\n\u001b[32m---> \u001b[39m\u001b[32m39\u001b[39m \u001b[38;5;28;01mfrom\u001b[39;00m\u001b[38;5;250m \u001b[39m\u001b[34;01mjhora\u001b[39;00m\u001b[34;01m.\u001b[39;00m\u001b[34;01mpanchanga\u001b[39;00m\u001b[38;5;250m \u001b[39m\u001b[38;5;28;01mimport\u001b[39;00m drik\n\u001b[32m     40\u001b[39m \u001b[38;5;28;01mfrom\u001b[39;00m\u001b[38;5;250m \u001b[39m\u001b[34;01mjhora\u001b[39;00m\u001b[38;5;250m \u001b[39m\u001b[38;5;28;01mimport\u001b[39;00m const,utils\n\u001b[32m     41\u001b[39m \u001b[38;5;28;01mfrom\u001b[39;00m\u001b[38;5;250m \u001b[39m\u001b[34;01mjhora\u001b[39;00m\u001b[34;01m.\u001b[39;00m\u001b[34;01mhoroscope\u001b[39;00m\u001b[34;01m.\u001b[39;00m\u001b[34;01mchart\u001b[39;00m\u001b[38;5;250m \u001b[39m\u001b[38;5;28;01mimport\u001b[39;00m house\n",
      "\u001b[36mFile \u001b[39m\u001b[32mc:\\Project\\test\\.venv\\Lib\\site-packages\\jhora\\panchanga\\drik.py:37\u001b[39m\n\u001b[32m     35\u001b[39m \u001b[38;5;28;01mfrom\u001b[39;00m\u001b[38;5;250m \u001b[39m\u001b[34;01mdatetime\u001b[39;00m\u001b[38;5;250m \u001b[39m\u001b[38;5;28;01mimport\u001b[39;00m date\n\u001b[32m     36\u001b[39m \u001b[38;5;28;01mimport\u001b[39;00m\u001b[38;5;250m \u001b[39m\u001b[34;01mmath\u001b[39;00m,\u001b[38;5;250m \u001b[39m\u001b[34;01mos\u001b[39;00m,\u001b[38;5;250m \u001b[39m\u001b[34;01mwarnings\u001b[39;00m\n\u001b[32m---> \u001b[39m\u001b[32m37\u001b[39m \u001b[38;5;28;01mfrom\u001b[39;00m\u001b[38;5;250m \u001b[39m\u001b[34;01mjhora\u001b[39;00m\u001b[38;5;250m \u001b[39m\u001b[38;5;28;01mimport\u001b[39;00m utils, const\n\u001b[32m     39\u001b[39m \u001b[33;03m\"\"\" Since datetime does not accept BC year values Use the following stucture to represent dates \"\"\"\u001b[39;00m\n\u001b[32m     40\u001b[39m Date = struct(\u001b[33m'\u001b[39m\u001b[33mDate\u001b[39m\u001b[33m'\u001b[39m, [\u001b[33m'\u001b[39m\u001b[33myear\u001b[39m\u001b[33m'\u001b[39m, \u001b[33m'\u001b[39m\u001b[33mmonth\u001b[39m\u001b[33m'\u001b[39m, \u001b[33m'\u001b[39m\u001b[33mday\u001b[39m\u001b[33m'\u001b[39m])\n",
      "\u001b[36mFile \u001b[39m\u001b[32mc:\\Project\\test\\.venv\\Lib\\site-packages\\jhora\\utils.py:28\u001b[39m\n\u001b[32m     26\u001b[39m \u001b[38;5;28;01mimport\u001b[39;00m\u001b[38;5;250m \u001b[39m\u001b[34;01mcodecs\u001b[39;00m\n\u001b[32m     27\u001b[39m \u001b[38;5;28;01mimport\u001b[39;00m\u001b[38;5;250m \u001b[39m\u001b[34;01mwarnings\u001b[39;00m\n\u001b[32m---> \u001b[39m\u001b[32m28\u001b[39m \u001b[38;5;28;01mimport\u001b[39;00m\u001b[38;5;250m \u001b[39m\u001b[34;01mgeocoder\u001b[39;00m\n\u001b[32m     29\u001b[39m \u001b[38;5;28;01mimport\u001b[39;00m\u001b[38;5;250m \u001b[39m\u001b[34;01mrequests\u001b[39;00m\n\u001b[32m     30\u001b[39m \u001b[38;5;28;01mfrom\u001b[39;00m\u001b[38;5;250m \u001b[39m\u001b[34;01mpytz\u001b[39;00m\u001b[38;5;250m \u001b[39m\u001b[38;5;28;01mimport\u001b[39;00m timezone, utc\n",
      "\u001b[31mModuleNotFoundError\u001b[39m: No module named 'geocoder'"
     ]
    }
   ],
   "source": [
    "from jhora.horoscope.chart.charts import HoroscopeChart\n",
    "# Define birth data (date, time, location)\n",
    "year = 1990\n",
    "month = 5\n",
    "day = 15\n",
    "hour = 14\n",
    "minute = 30\n",
    "latitude = 51.5074 \n",
    "# London, UK\n",
    "longitude = 0.1278\n",
    "utc_offset = 1.0 \n",
    "# +1.0 for British Summer Time<br> \n",
    "# Initialize the chart object \n",
    "chart = HoroscopeChart(year, month, day, hour, minute, utc_offset, latitude, longitude)\n",
    "\n",
    "print(\"Planetary Positions:\") \n",
    "for planet, pos in chart.planets.items(): \n",
    "    print(f\"{planet.name}: {pos.longitude_str()}\") \n",
    "\n",
    "print(\"\\nHouse Cusps:\")\n",
    "for house, cusp in chart.houses.items(): \n",
    "    print(f\"House {house.value}: {cusp.longitude_str()}\")"
   ]
  },
  {
   "cell_type": "code",
   "execution_count": null,
   "id": "87def5eb",
   "metadata": {},
   "outputs": [],
   "source": [
    "! pip uninstall PyJHora swisseph pyswisseph geocoder\n"
   ]
  }
 ],
 "metadata": {
  "kernelspec": {
   "display_name": ".venv",
   "language": "python",
   "name": "python3"
  },
  "language_info": {
   "codemirror_mode": {
    "name": "ipython",
    "version": 3
   },
   "file_extension": ".py",
   "mimetype": "text/x-python",
   "name": "python",
   "nbconvert_exporter": "python",
   "pygments_lexer": "ipython3",
   "version": "3.11.9"
  }
 },
 "nbformat": 4,
 "nbformat_minor": 5
}
